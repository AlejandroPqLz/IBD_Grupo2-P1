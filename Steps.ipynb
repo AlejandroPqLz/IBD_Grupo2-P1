{
 "cells": [
  {
   "attachments": {},
   "cell_type": "markdown",
   "metadata": {},
   "source": [
    "# Etapas\n",
    "\n",
    "### Clonar repositorio de GitHub \n",
    "\n",
    "En la terminal de tu ordenador, sitúate en la carpeta donde quieres clonar el repositorio y ejecuta el siguiente comando:\n",
    "`git clone \"https://github.com/AlejandroPqLz/IBD_Grupo2-P1.git\"`\n",
    "\n",
    "En la carpeta donde has clonado el repositorio y se ubica el archivo `Dockerfile`. Para construir la imagen ejecuta el siguiente comando:\n",
    "`docker build -t ibd_g2 .`\n",
    "\n",
    "Una vez creada la imagen, puedes visualizarla ejecutando el siguiente comando: `docker images`\n",
    "\n",
    "Ahora, procederemos a crear un contenedor a partir de la imagen que acabamos de crear. Para ello, ejecuta el siguiente comando: `docker run -d -p 7200:7200 ibd_g2`\n",
    "\n",
    "Abrimos el navegador y accedemos a la dirección `http://localhost:7200/`\n",
    "\n",
    "Le damos a `create new repository` y posteriormente elegimos la opción `graphDB Reository`.\n",
    "`Import file`- `upload RDF files`. Fickertos `.ttl` menores a 200MB.\n",
    "\n",
    "Creamos una nueva imagen con el repositorio RDF creado. Para ello, ejecutamos el siguiente comando: \n",
    "\n",
    "`docker commit <container_id> <new_image_name>`: docker commit 95277b19e1a1 ibd_g2_rdf"
   ]
  },
  {
   "cell_type": "code",
   "execution_count": null,
   "metadata": {
    "vscode": {
     "languageId": "plaintext"
    }
   },
   "outputs": [],
   "source": [
    "REPOSITORY   TAG       IMAGE ID       CREATED          SIZE\n",
    "ibd_g2_rdf   latest    12e996ac9ad1   3 minutes ago    1.07GB\n",
    "ibd_g2       latest    64920a562003   10 minutes ago   681MB"
   ]
  },
  {
   "attachments": {},
   "cell_type": "markdown",
   "metadata": {},
   "source": [
    "Publicamos la imagen a docker hub.\n",
    "\n",
    "`docker login -u <username>`\n",
    "\n",
    "`docker tag <image_id> <username>/<image_name>`: docker tag ibd_g2_rdf noachuartzt/ibd_g2_graphdb"
   ]
  },
  {
   "cell_type": "code",
   "execution_count": null,
   "metadata": {
    "vscode": {
     "languageId": "plaintext"
    }
   },
   "outputs": [],
   "source": [
    "REPOSITORY                   TAG       IMAGE ID       CREATED          SIZE\n",
    "ibd_g2_rdf                   latest    12e996ac9ad1   6 minutes ago    1.07GB\n",
    "noachuartzt/ibd_g2_graphdb   latest    12e996ac9ad1   6 minutes ago    1.07GB\n",
    "ibd_g2                       latest    64920a562003   14 minutes ago   681MB"
   ]
  },
  {
   "attachments": {},
   "cell_type": "markdown",
   "metadata": {},
   "source": [
    "`docker push <username>/<image_name>`: docker push noachuartzt/ibd_g2_graphdb"
   ]
  }
 ],
 "metadata": {
  "language_info": {
   "name": "python"
  },
  "orig_nbformat": 4
 },
 "nbformat": 4,
 "nbformat_minor": 2
}
