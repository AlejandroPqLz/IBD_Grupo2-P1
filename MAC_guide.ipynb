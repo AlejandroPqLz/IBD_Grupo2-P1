{
 "cells": [
  {
   "attachments": {},
   "cell_type": "markdown",
   "metadata": {},
   "source": [
    "# Clonar repositorios con el sistema operativo MAC OS\n",
    "\n",
    "### Clonar repositorios de GitHub con una llave SSH\n",
    "\n",
    "Debido a las nuevas versiones de git, ya no está permitido clonar el repositorio utilizando HTTPS para MAC OS. Esto es una manual para clonar un repositorio a través de una llave SSH. Para poder hacerlo se deberán seguir los siguientes pasos: \n"
   ]
  },
  {
   "attachments": {},
   "cell_type": "markdown",
   "metadata": {},
   "source": [
    "### COMPROBAR LA EXISTENCIA DE UNA LLAVE SSH \n",
    "\n",
    "Para verificar la existencia de una *llave ssh* debemos ejecutar los siguientes comandos:\n",
    "\n",
    "1. Abrir el terminal\n",
    "\n",
    "2. Comprobar de si ya existe una *llave ssh*:\n",
    "`ls -al ~/.ssh `\n",
    "\n",
    "3. Aparecerá un listado de ficheros ssh. Comprobar si la *llave ssh* existe"
   ]
  },
  {
   "attachments": {},
   "cell_type": "markdown",
   "metadata": {},
   "source": [
    "### CREAR UNA LLAVE SSH\n",
    "Para crear una *llave ssh* debemos ejecutar los siguientes comandos:\n",
    "\n",
    "1. Abrir el terminal\n",
    "\n",
    "2. Escribir el siguiente comando con el email utilizado en la cuenta de github:\n",
    "`ssh-keygen -t ed25519 -C \"<email>\"` \n",
    "\n",
    ">NOTA: Si no funciona, probar con ` ssh-keygen -t rsa -b 4096 -C \"<email>\" ` \n",
    "\n",
    "3. Una vez creada, aparecerá el siguiente mensaje: \n",
    "\\> Generating public/private rsa key pair\n",
    "\n",
    "4. A continuación, aparecerá el siguiente mensaje: \n",
    "\\> Enter file in which to save the key (/<file_path>).\n",
    "\n",
    "5. Pulse enter para aceptar y continuar\n",
    "\n",
    "6. Añadir una “contraseña”:  \\> Enter passphrase (empty for no passphrase): \n",
    "\n",
    "7. Ya se ha creado la clave SSH\n",
    "\n"
   ]
  },
  {
   "attachments": {},
   "cell_type": "markdown",
   "metadata": {},
   "source": [
    "### AÑADIR UNA LLAVE SSH AL AGENTE SSH\n",
    "Para añadir una *llave ssh* a un *agente SSH* debemos ejecutar los siguientes comandos:\n",
    "\n",
    "1. Abrir el terminal\n",
    "\n",
    "2. Aparecerá el siguiente mensaje: \n",
    "\\>  > Agent pid <numero>\n",
    "\n",
    "3. Comprobar que el fichero no existe:\n",
    "`open ~/.ssh/config`\n",
    "\n",
    "4. Si no existe, aparecerá el siguiente mensaje: \n",
    "\\> The file ~/.ssh/config does not exist.\n",
    "\n",
    "5. Crear el fichero: \n",
    "`touch ~/.ssh/config`\n",
    "\n",
    "6. Abrir y editar el fichero con el id correspondiente: \n",
    "```\n",
    "    Host github.com\n",
    "    AddKeysToAgent yes\n",
    "    UseKeychain yes\n",
    "    IdentityFile ~/.ssh/<id>\n",
    " ```\n",
    "\n",
    "7. Guardar los cambios\n",
    "\n",
    "8. Añadir la *llave ssh* con el id correspondiente:\n",
    "ssh-add --apple-use-keychain ~/.ssh/<id>"
   ]
  },
  {
   "attachments": {},
   "cell_type": "markdown",
   "metadata": {},
   "source": [
    "### AÑADIR LLAVE SSH A UNA CUENTA DE GITHUB\n",
    "Para añadir una *llave ssh* a una cuenta en github debemos ejecutar los siguientes comandos:\n",
    "\n",
    "1. Abrir el terminal\n",
    "\n",
    "2. Copiar y substituir el id para copiar la llave en el clipboard:\n",
    "`pbcopy < ~/.ssh/<id>.pub`\n",
    "\n",
    "3. Abrir y entrar en uan cuenta de github en el navegador\n",
    "\n",
    "4. Desde la pestaña de github, dirigirse a Perfil > Ajustes > Llaves SSH and GPC (sección acceso) > nueva llave ssh\n",
    "\n",
    "5. Crear la llave: añadir un titulo, especificar tipo de uso y pegar la informacion previamente copiada\n",
    "\n",
    "6. Añadir y guardar"
   ]
  },
  {
   "attachments": {},
   "cell_type": "markdown",
   "metadata": {},
   "source": [
    "### CLONAR UN REPOSITORIO USANDO UNA LLAVE SSH\n",
    "Para añadir una *llave ssh* a una cuenta de github debemos ejecutar los siguientes comandos:\n",
    "\n",
    "1. Abrir github\n",
    "\n",
    "2. Copiar url del repositorio bajo la pestaña SSH en vez de HTTPS\n",
    "`pbcopy < ~/.ssh/<id>.pub`\n",
    "\n",
    "3. Abrir el terminal\n",
    "\n",
    "4. Clonar el reposotorio: \n",
    "`git clone <url>`"
   ]
  },
  {
   "attachments": {},
   "cell_type": "markdown",
   "metadata": {},
   "source": [
    ">NOTA: Para más ayuda visitar el siguiente enlace: [https://docs.github.com/en/authentication/connecting-to-github-with-ssh/adding-a-new-ssh-key-to-your-github-account](https://docs.github.com/en/authentication/connecting-to-github-with-ssh/adding-a-new-ssh-key-to-your-github-account)"
   ]
  }
 ],
 "metadata": {
  "language_info": {
   "name": "python"
  },
  "orig_nbformat": 4
 },
 "nbformat": 4,
 "nbformat_minor": 2
}
